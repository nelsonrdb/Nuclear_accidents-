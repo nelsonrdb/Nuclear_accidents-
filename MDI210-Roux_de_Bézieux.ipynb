{
 "cells": [
  {
   "cell_type": "markdown",
   "id": "5a991973",
   "metadata": {},
   "source": [
    "# Projet de statistiques - MDI220 - Nelson Roux de Bézieux "
   ]
  },
  {
   "cell_type": "markdown",
   "id": "c6865ec8",
   "metadata": {},
   "source": [
    "**Exercice 1**"
   ]
  },
  {
   "cell_type": "code",
   "execution_count": 2,
   "id": "fe5b42c9",
   "metadata": {},
   "outputs": [
    {
     "name": "stdout",
     "output_type": "stream",
     "text": [
      "You're ready!\n"
     ]
    }
   ],
   "source": [
    "import pandas as pd \n",
    "from os import path\n",
    "import scipy as sp\n",
    "import numpy as np \n",
    "import matplotlib.pyplot as plt\n",
    "\n",
    "\n",
    "# check datasets\n",
    "if not all([path.isfile(ProjetMDI220) for ProjetMDI220 in ['C_id_35_NuclearPowerAccidents2016.csv']]):\n",
    "    print('Please download the datasets and save them in the working directory.')\n",
    "else:\n",
    "    print(\"You're ready!\")\n",
    "    \n",
    "    "
   ]
  },
  {
   "cell_type": "markdown",
   "id": "23cd2295",
   "metadata": {},
   "source": [
    "**1]**"
   ]
  },
  {
   "cell_type": "code",
   "execution_count": 3,
   "id": "183212ce",
   "metadata": {},
   "outputs": [],
   "source": [
    "df = pd.read_csv('C_id_35_NuclearPowerAccidents2016.csv', usecols=['Date','Location','Cost (millions 2013US$)','INES','Smyth Magnitude', 'Region', 'Description','Fatalities'], low_memory=False)"
   ]
  },
  {
   "cell_type": "code",
   "execution_count": 4,
   "id": "623a594e",
   "metadata": {},
   "outputs": [],
   "source": [
    "df['Date'] = pd.to_datetime(df['Date'])\n",
    "df = df.sort_values(by=\"Date\")"
   ]
  },
  {
   "cell_type": "code",
   "execution_count": 5,
   "id": "3a240fb1",
   "metadata": {},
   "outputs": [
    {
     "data": {
      "text/html": [
       "<div>\n",
       "<style scoped>\n",
       "    .dataframe tbody tr th:only-of-type {\n",
       "        vertical-align: middle;\n",
       "    }\n",
       "\n",
       "    .dataframe tbody tr th {\n",
       "        vertical-align: top;\n",
       "    }\n",
       "\n",
       "    .dataframe thead th {\n",
       "        text-align: right;\n",
       "    }\n",
       "</style>\n",
       "<table border=\"1\" class=\"dataframe\">\n",
       "  <thead>\n",
       "    <tr style=\"text-align: right;\">\n",
       "      <th></th>\n",
       "      <th>Date</th>\n",
       "      <th>Location</th>\n",
       "      <th>Cost (millions 2013US$)</th>\n",
       "      <th>INES</th>\n",
       "      <th>Smyth Magnitude</th>\n",
       "      <th>Region</th>\n",
       "      <th>Description</th>\n",
       "      <th>Fatalities</th>\n",
       "    </tr>\n",
       "  </thead>\n",
       "  <tbody>\n",
       "    <tr>\n",
       "      <th>161</th>\n",
       "      <td>1946-05-21</td>\n",
       "      <td>Los Alamos, New Mexico</td>\n",
       "      <td>0.0</td>\n",
       "      <td>NaN</td>\n",
       "      <td>NaN</td>\n",
       "      <td>NaN</td>\n",
       "      <td>Death due to citicality accident at Los Alamos...</td>\n",
       "      <td>1</td>\n",
       "    </tr>\n",
       "    <tr>\n",
       "      <th>17</th>\n",
       "      <td>1949-12-02</td>\n",
       "      <td>Hanford, WA, USA</td>\n",
       "      <td>1100.0</td>\n",
       "      <td>4.0</td>\n",
       "      <td>3.8</td>\n",
       "      <td>NaN</td>\n",
       "      <td>Operators release 8,000 curies of iodine-131 o...</td>\n",
       "      <td>0</td>\n",
       "    </tr>\n",
       "    <tr>\n",
       "      <th>73</th>\n",
       "      <td>1952-12-12</td>\n",
       "      <td>Chalk River, Ontario, Canada</td>\n",
       "      <td>52.4</td>\n",
       "      <td>NaN</td>\n",
       "      <td>NaN</td>\n",
       "      <td>NaN</td>\n",
       "      <td>Hydrogen explosion damaged reactor interior an...</td>\n",
       "      <td>0</td>\n",
       "    </tr>\n",
       "    <tr>\n",
       "      <th>5</th>\n",
       "      <td>1955-03-25</td>\n",
       "      <td>Sellafield, UK</td>\n",
       "      <td>4400.0</td>\n",
       "      <td>4.0</td>\n",
       "      <td>4.3</td>\n",
       "      <td>WE</td>\n",
       "      <td>Fire releases up to up to a few tenths of a te...</td>\n",
       "      <td>0</td>\n",
       "    </tr>\n",
       "    <tr>\n",
       "      <th>7</th>\n",
       "      <td>1955-07-14</td>\n",
       "      <td>Sellafield, UK</td>\n",
       "      <td>2900.0</td>\n",
       "      <td>3.0</td>\n",
       "      <td>-2.4</td>\n",
       "      <td>WE</td>\n",
       "      <td>Another radioactive leak and remediation opera...</td>\n",
       "      <td>0</td>\n",
       "    </tr>\n",
       "    <tr>\n",
       "      <th>...</th>\n",
       "      <td>...</td>\n",
       "      <td>...</td>\n",
       "      <td>...</td>\n",
       "      <td>...</td>\n",
       "      <td>...</td>\n",
       "      <td>...</td>\n",
       "      <td>...</td>\n",
       "      <td>...</td>\n",
       "    </tr>\n",
       "    <tr>\n",
       "      <th>188</th>\n",
       "      <td>2014-05-17</td>\n",
       "      <td>Tarapur, Maharashtra, India</td>\n",
       "      <td>NaN</td>\n",
       "      <td>1.0</td>\n",
       "      <td>NaN</td>\n",
       "      <td>A</td>\n",
       "      <td>Overexpossure of a worker during a transfer op...</td>\n",
       "      <td>0</td>\n",
       "    </tr>\n",
       "    <tr>\n",
       "      <th>102</th>\n",
       "      <td>2014-08-11</td>\n",
       "      <td>Lancashire, United Kingdom</td>\n",
       "      <td>17.0</td>\n",
       "      <td>NaN</td>\n",
       "      <td>NaN</td>\n",
       "      <td>WE</td>\n",
       "      <td>Corrosion and defects found in the boiler unit...</td>\n",
       "      <td>0</td>\n",
       "    </tr>\n",
       "    <tr>\n",
       "      <th>187</th>\n",
       "      <td>2014-11-28</td>\n",
       "      <td>Zaporizhia, Ukrain</td>\n",
       "      <td>NaN</td>\n",
       "      <td>0.0</td>\n",
       "      <td>NaN</td>\n",
       "      <td>EE</td>\n",
       "      <td>Disconnection of the unit 3 of the plant from ...</td>\n",
       "      <td>0</td>\n",
       "    </tr>\n",
       "    <tr>\n",
       "      <th>186</th>\n",
       "      <td>2015-05-28</td>\n",
       "      <td>Cattenom, France</td>\n",
       "      <td>NaN</td>\n",
       "      <td>1.0</td>\n",
       "      <td>NaN</td>\n",
       "      <td>WE</td>\n",
       "      <td>Unexpected opening of a secondary system valve...</td>\n",
       "      <td>0</td>\n",
       "    </tr>\n",
       "    <tr>\n",
       "      <th>185</th>\n",
       "      <td>2015-08-18</td>\n",
       "      <td>Blayais, France</td>\n",
       "      <td>NaN</td>\n",
       "      <td>2.0</td>\n",
       "      <td>NaN</td>\n",
       "      <td>WE</td>\n",
       "      <td>Accidental overexposure of a worker to a dose ...</td>\n",
       "      <td>0</td>\n",
       "    </tr>\n",
       "  </tbody>\n",
       "</table>\n",
       "<p>216 rows × 8 columns</p>\n",
       "</div>"
      ],
      "text/plain": [
       "          Date                      Location  Cost (millions 2013US$)  INES  \\\n",
       "161 1946-05-21        Los Alamos, New Mexico                      0.0   NaN   \n",
       "17  1949-12-02              Hanford, WA, USA                   1100.0   4.0   \n",
       "73  1952-12-12  Chalk River, Ontario, Canada                     52.4   NaN   \n",
       "5   1955-03-25                Sellafield, UK                   4400.0   4.0   \n",
       "7   1955-07-14                Sellafield, UK                   2900.0   3.0   \n",
       "..         ...                           ...                      ...   ...   \n",
       "188 2014-05-17   Tarapur, Maharashtra, India                      NaN   1.0   \n",
       "102 2014-08-11    Lancashire, United Kingdom                     17.0   NaN   \n",
       "187 2014-11-28            Zaporizhia, Ukrain                      NaN   0.0   \n",
       "186 2015-05-28              Cattenom, France                      NaN   1.0   \n",
       "185 2015-08-18               Blayais, France                      NaN   2.0   \n",
       "\n",
       "     Smyth Magnitude Region  \\\n",
       "161              NaN    NaN   \n",
       "17               3.8    NaN   \n",
       "73               NaN    NaN   \n",
       "5                4.3     WE   \n",
       "7               -2.4     WE   \n",
       "..               ...    ...   \n",
       "188              NaN      A   \n",
       "102              NaN     WE   \n",
       "187              NaN     EE   \n",
       "186              NaN     WE   \n",
       "185              NaN     WE   \n",
       "\n",
       "                                           Description  Fatalities  \n",
       "161  Death due to citicality accident at Los Alamos...           1  \n",
       "17   Operators release 8,000 curies of iodine-131 o...           0  \n",
       "73   Hydrogen explosion damaged reactor interior an...           0  \n",
       "5    Fire releases up to up to a few tenths of a te...           0  \n",
       "7    Another radioactive leak and remediation opera...           0  \n",
       "..                                                 ...         ...  \n",
       "188  Overexpossure of a worker during a transfer op...           0  \n",
       "102  Corrosion and defects found in the boiler unit...           0  \n",
       "187  Disconnection of the unit 3 of the plant from ...           0  \n",
       "186  Unexpected opening of a secondary system valve...           0  \n",
       "185  Accidental overexposure of a worker to a dose ...           0  \n",
       "\n",
       "[216 rows x 8 columns]"
      ]
     },
     "execution_count": 5,
     "metadata": {},
     "output_type": "execute_result"
    }
   ],
   "source": [
    "df\n"
   ]
  },
  {
   "cell_type": "code",
   "execution_count": 6,
   "id": "237bb384",
   "metadata": {},
   "outputs": [],
   "source": [
    "df1 = df[['Date',\"Cost (millions 2013US$)\"]]"
   ]
  },
  {
   "cell_type": "code",
   "execution_count": 7,
   "id": "96596bd1",
   "metadata": {},
   "outputs": [],
   "source": [
    "df2 = df1.dropna(subset='Cost (millions 2013US$)')"
   ]
  },
  {
   "cell_type": "code",
   "execution_count": 18,
   "id": "5a2d0516",
   "metadata": {},
   "outputs": [],
   "source": [
    "df3 = df.loc[df['Location']=='Middletown, Pennsylvania, United States']['Date']"
   ]
  },
  {
   "cell_type": "code",
   "execution_count": 10,
   "id": "9bed9701",
   "metadata": {},
   "outputs": [
    {
     "data": {
      "text/plain": [
       "3   1979-03-28\n",
       "Name: Date, dtype: datetime64[ns]"
      ]
     },
     "execution_count": 10,
     "metadata": {},
     "output_type": "execute_result"
    }
   ],
   "source": [
    "df3"
   ]
  },
  {
   "cell_type": "code",
   "execution_count": 111,
   "id": "f4c39ab3",
   "metadata": {},
   "outputs": [
    {
     "name": "stdout",
     "output_type": "stream",
     "text": [
      "55\n"
     ]
    }
   ],
   "source": [
    "df4 = df2[df2.Date < '1979-03-28']\n",
    "df5 = df4['Cost (millions 2013US$)']\n",
    "L = df5.tolist()\n",
    "print(len(L))"
   ]
  },
  {
   "cell_type": "markdown",
   "id": "5b5e80bd",
   "metadata": {},
   "source": [
    "**2]**\n",
    "\n",
    "$\\def\\erf{{\\textrm{erf}}\\,}$\n",
    "Soit $x = F_{\\theta}^{-1}(p)$ \n",
    "\n",
    "On a $F_{\\theta}(x) = p = \\frac{1}{2} (1 + \\erf(\\frac{x - \\mu}{\\sigma \\sqrt2})) \\iff x = \\mu + \\sigma \\sqrt2 \\erf^{-1}(2p - 1) = \\mu + \\sigma F_{(0,1)}^{-1}(p)$ par définition de $\\erf$ vue sur wikipédia "
   ]
  },
  {
   "cell_type": "markdown",
   "id": "7bdf8d2e",
   "metadata": {},
   "source": [
    "\n"
   ]
  },
  {
   "cell_type": "code",
   "execution_count": 14,
   "id": "760d0a5d",
   "metadata": {},
   "outputs": [
    {
     "data": {
      "image/png": "[encoded data removed]",
      "text/plain": [
       "<Figure size 640x480 with 1 Axes>"
      ]
     },
     "metadata": {},
     "output_type": "display_data"
    }
   ],
   "source": [
    "qq=sp.stats.probplot(L, plot=plt, dist='norm', fit=True, rvalue=True)\n",
    "plt.show()"
   ]
  },
  {
   "cell_type": "code",
   "execution_count": 15,
   "id": "a0a4974b",
   "metadata": {},
   "outputs": [
    {
     "data": {
      "image/png": "[encoded data removed]",
      "text/plain": [
       "<Figure size 640x480 with 1 Axes>"
      ]
     },
     "metadata": {},
     "output_type": "display_data"
    }
   ],
   "source": [
    "qq=sp.stats.probplot(L, plot=plt, dist=sp.stats.expon , fit=True, rvalue=True)\n",
    "plt.show()"
   ]
  },
  {
   "cell_type": "markdown",
   "id": "18ed0ead",
   "metadata": {},
   "source": [
    "**3.a]**\n",
    "Soit $ p \\in \\mathopen{]}0,1\\mathclose{]}$\n",
    "On pose $F_{\\lambda}^{-1}(x) =  \\left\\{\n",
    "    \\begin{array}{ll}\n",
    "        1 - \\exp(-\\lambda x) & \\mbox {si } x > 0 \\\\ 0\n",
    "         & \\mbox{sinon.}\n",
    "    \\end{array}\n",
    "\\right.$\n",
    "\n",
    "On a $ F_{\\lambda}(p) = x \\iff 1 - \\exp(-\\lambda x) = p \\iff x = \\frac{1}{\\lambda}\\ln(1-p)$\n",
    "\n",
    "On reconnait dans la dernière égalité l'expression de  $F_{1}^{-1}(x)$.\n",
    "On a donc bien l'expression de l'énoncé.\n",
    "\n"
   ]
  },
  {
   "cell_type": "markdown",
   "id": "4fb57077",
   "metadata": {},
   "source": [
    "**4]** Le coefficient de corrélation est beaucoup plus élevé pour le modèle exponentiel. C'est donc celui que l'on va choisir."
   ]
  },
  {
   "cell_type": "markdown",
   "id": "d9209295",
   "metadata": {},
   "source": [
    "**Exercice  2**"
   ]
  },
  {
   "cell_type": "markdown",
   "id": "808dc1ff",
   "metadata": {},
   "source": [
    "**1]** On écrit dans un premier temps l'expression de la vraissemblance : \n",
    "\n",
    "$\n",
    "L(x_1,...,x_i,...,x_n;\\alpha) = \\prod_\\limits{i=1}^n \\alpha e^{-\\alpha x_i} = \\alpha^n \\prod_\\limits{i=1}^n e^{-\\alpha x_i} = \\alpha^n \\exp\\left(\\sum_\\limits{i=1}^n -\\alpha x_i\\right) = \\alpha^n \\exp\\left(-\\alpha\\sum_\\limits{i=1}^n x_i\\right)  \n",
    "$\n",
    "\n",
    "La vraisemblance étant positive, on peut prendre le logarithme népérien : \n",
    "\n",
    "$ \\ln L(x_1,...,x_i,...,x_n;\\alpha) = \\ln \\left[\\alpha^n \\exp\\left(-\\alpha\\sum_\\limits{i=1}^n x_i\\right)\\right] = n \\ln \\alpha - \\alpha \\sum_\\limits{i=1}^n x_i $\n",
    "\n",
    "On prend l'argument qui annule la dérivée première de cette dernière expression : \n",
    "\n",
    "$  \\frac{\\partial \\ln L(x_1,...,x_i,...,x_n;\\alpha)}{\\partial \\alpha} = \\frac{n}{\\alpha} - \\sum_\\limits{i=1}^n x_i = 0 $\n",
    "\n",
    "On obtient ainsi : \n",
    "${\\hat  \\alpha }={\\frac  {n}{\\sum _\\limits{{i=1}}^{n}x_{i}}}={\\frac  {1}{{\\frac  {1}{n}}\\sum _\\limits{{i=1}}^{n}x_{i}}}$"
   ]
  },
  {
   "cell_type": "markdown",
   "id": "4f7c2883",
   "metadata": {},
   "source": [
    "**2]**"
   ]
  },
  {
   "cell_type": "code",
   "execution_count": 110,
   "id": "ade7a916",
   "metadata": {},
   "outputs": [
    {
     "name": "stdout",
     "output_type": "stream",
     "text": [
      "39948.50000000001 55\n"
     ]
    },
    {
     "data": {
      "image/png": "[encoded data removed]",
      "text/plain": [
       "<Figure size 640x480 with 1 Axes>"
      ]
     },
     "metadata": {},
     "output_type": "display_data"
    }
   ],
   "source": [
    "s = sum(L)\n",
    "n = len(L)\n",
    "lda = n/s\n",
    "rv = sp.stats.expon(scale = 1/lda)\n",
    "x = np.linspace(0,max(L),100000)\n",
    "\n",
    "\n",
    "plt.plot(x, rv.pdf(x), label=\"densité de la loi exponentielle\", c= 'g')\n",
    "plt.hist(L, density=True,label=\"Histogramme de données\", color='y')\n",
    "print(s,n)\n"
   ]
  },
  {
   "cell_type": "markdown",
   "id": "818a22c5",
   "metadata": {},
   "source": [
    "**3]** Vérifions que nous avons bien la variance de notre estimateur égale à l'inverse du moment d'ordre 2 de sa fonction score \n",
    "\n",
    "$ \\def\\Var{{\\textrm{Var}}\\,} \\def\\I{{\\textrm{I}}\\,} \\def\\L{{\\textrm{L}}\\,}, \\def\\L{{\\textrm{e}}\\,}$\n",
    "\n",
    "$ \\Var_{\\theta}(\\widehat{\\theta}) = \\Var(\\frac{1}{n}\\sum\\limits_{j=1}^n X_{j}) = \\frac{1}{n^2}\\Var(\\sum\\limits_{j=1}^n X_{j}) = \\frac{1}{n}\\Var(X_{1}) = \\frac{1}{n\\theta^2} $ par indépendance des $X_{j}$\n",
    "\n",
    "On calcule l'information de Fisher : $ \\I_{\\theta} = \\Var_{\\theta}(\\log(\\frac{\\partial \\log p(x,\\theta))}{\\partial x}))$\n",
    "\n",
    "On a pour fonction de vraisemblance : $p(x,\\theta)= \\theta^n \\ln\\prod\\limits_{i=1}^n e^{-\\theta x_{i}}$\n",
    "\n",
    "Ainsi : $\\log p(x,\\theta) = n\\log \\theta - \\theta\\sum\\limits_{i=1}^n x_{i} $ \n",
    "et donc $\\frac{\\partial \\log p(x,\\theta)}{\\partial \\theta} = \\frac{n}{\\theta} - \\sum\\limits_{i=1}^n x_{i}$\n",
    "et finalement $ \\I_{\\theta} = \\Var(\\frac{n}{\\theta} - \\sum\\limits_{i=1}^n x_{i}) = \\Var(- \\sum\\limits_{i=1}^n x_{i}) = \\frac{n}{\\theta^2}$ par indépendance\n",
    "\n",
    "Or $g(\\theta) = \\frac{1}{\\theta}$ donc $ (g'(\\theta))^2 = \\frac{1}{\\theta^4}$\n",
    "\n",
    "On a donc bien $ \\Var_{\\theta}(\\widehat{\\theta})= \\frac{(g'(\\theta))^2}{\\I_{\\theta}}$.\n",
    "L'estimateur est donc **efficace**\n"
   ]
  },
  {
   "cell_type": "markdown",
   "id": "57372469",
   "metadata": {},
   "source": [
    "**4]**"
   ]
  },
  {
   "cell_type": "code",
   "execution_count": 25,
   "id": "77dc358f",
   "metadata": {},
   "outputs": [
    {
     "name": "stdout",
     "output_type": "stream",
     "text": [
      "Valeur numérique : 726.3363636363638\n"
     ]
    }
   ],
   "source": [
    "print(\"Valeur numérique :\", sum(L)/n)"
   ]
  },
  {
   "cell_type": "markdown",
   "id": "95e4352c",
   "metadata": {},
   "source": [
    "**5]** $$R(\\theta,\\widehat g) = b(\\theta, \\widehat g)^2 + \\Var_{\\theta}\\widehat g(X)$$\n",
    "\n",
    "Donc pour $g_{\\eta}$ on a : \n",
    "\n",
    "$$b(\\theta, \\widehat g_{\\eta})^2 = \\mathbb{E}_{\\theta}[(\\widehat g_{\\eta}(X) - g(\\theta)] = (\\frac{\\eta - 1}{\\theta})^2$$\n",
    "\n",
    "Et $$\\Var_{\\theta}(\\widehat g_{\\eta}(X)) = \\eta^2\\Var(\\widehat g(X)) = \\frac{\\eta^2}{n\\theta^2}$$\n",
    "\n",
    "D'ou : $$R(\\theta,\\widehat g_{\\eta}) = \\frac{1}{\\theta^2}[\\frac{\\eta^2}{n} + (\\eta - 1)^2]$$\n",
    "\n",
    "$ R(\\theta,\\widehat g) - R(\\theta,\\widehat g_{\\eta}) $ est un polynome de degré 2 en $\\eta$ dont on cherche quand les valeurs pour lesquelles ce dernier est stricement négatif (avec rappelons le $R(\\theta,\\widehat g) =  \\Var_{\\theta}\\widehat g(X) = \\frac{1}{n\\theta^2}$ )\n",
    "\n",
    "Après résolution de cette inéquation, on trouve que : \n",
    "\n",
    "$$ \\forall \\eta \\in \\left]\\frac{n-1}{n+1},1\\right[ ,  R(\\theta,\\widehat g) > R(\\theta,\\widehat g_{\\eta}) $$\n",
    "\n",
    "On gagne en sécurité mais l'estimateur n'est plus biaisé, donc moins précis. On va donc apparaitre ici le compromis entre précision et l'estimateur et faiblesse de son risque. "
   ]
  },
  {
   "cell_type": "markdown",
   "id": "27531e6d",
   "metadata": {},
   "source": [
    "**6]** On cherche à estimer le paramètre $a$ vérifiant $\\mathbb{P}(X<a) = \\frac{1}{2}$\n",
    "\n",
    "On a donc $ \\mathbb{P}(X<a) = \\frac{1}{2} \\iff 1 - \\exp(-\\theta a) = \\frac{1}{2} \\iff a = \\frac{\\log2}{\\theta} $\n",
    "\n",
    "Ainsi, la valeur d'eta pour laquelle l'estimateur $\\widehat g_{\\eta}$ est un estimateur de la médiane est $\\eta = \\log2$\n",
    "\n"
   ]
  },
  {
   "cell_type": "code",
   "execution_count": 32,
   "id": "b61d26d4",
   "metadata": {},
   "outputs": [
    {
     "name": "stdout",
     "output_type": "stream",
     "text": [
      "Valeur numérique de la médiane : 503.4580025927087\n"
     ]
    }
   ],
   "source": [
    "print(\"Valeur numérique de la médiane :\", np.log(2)*sum(L)/n)"
   ]
  },
  {
   "cell_type": "code",
   "execution_count": 33,
   "id": "dc94066d",
   "metadata": {},
   "outputs": [
    {
     "name": "stdout",
     "output_type": "stream",
     "text": [
      "89.9\n"
     ]
    }
   ],
   "source": [
    "print(np.median(L))"
   ]
  },
  {
   "cell_type": "markdown",
   "id": "558fbef2",
   "metadata": {},
   "source": [
    "D'après les calculs précédents : $R(\\theta,\\widehat g) > R(\\theta,\\widehat g_{\\log2}) \\iff \\log2 \\in \\left]\\frac{n-1}{n+1},1\\right[ \\iff n < \\frac{1 + \\log2}{1 - \\log2}$"
   ]
  },
  {
   "cell_type": "code",
   "execution_count": 34,
   "id": "c69401df",
   "metadata": {},
   "outputs": [
    {
     "name": "stdout",
     "output_type": "stream",
     "text": [
      "Numériquement on obtient qu'il faut que n soit inférieur à  5.517782706541859\n"
     ]
    }
   ],
   "source": [
    "print(\"Numériquement on obtient qu'il faut que n soit inférieur à \", (np.log(2) + 1)/(1 - np.log(2)))"
   ]
  },
  {
   "cell_type": "markdown",
   "id": "39cea3d8",
   "metadata": {},
   "source": [
    "On a donc  $\\forall n \\in \\left[1,5\\right]$ $ R(\\theta,\\widehat g) > R(\\theta,\\widehat g_{\\log2})$ \n",
    "et $\\forall n > 5, R(\\theta,\\widehat g) < R(\\theta,\\widehat g_{\\log2})$ \n"
   ]
  },
  {
   "cell_type": "markdown",
   "id": "026857c0",
   "metadata": {},
   "source": [
    "**Exercice 3**"
   ]
  },
  {
   "cell_type": "markdown",
   "id": "393f2867",
   "metadata": {},
   "source": [
    "**1]** On a ici à faire à un **one tailed test** avec les hypothèses suivantes : \n",
    "\n",
    "$\\Theta_{0} = \\left\\{\\theta > \\theta_{0} = 0.001\\right\\}$ \n",
    "et $\\Theta_{1} = \\left\\{\\theta < \\theta_{0} = 0.001\\right\\}$"
   ]
  },
  {
   "cell_type": "markdown",
   "id": "1b1d9177",
   "metadata": {},
   "source": [
    "**2]** Calculons le rapport de vraisemblance : \n",
    "\n",
    "$\\def\\S{{\\textrm{S}}\\,}$\n",
    "$ \\forall x = (x_{1},...,x_{n}),  \\forall \\theta' > \\theta, \\frac{p_{\\theta'}(x)}{p_{\\theta}(x)} = {(\\frac{\\theta'}{\\theta})}^n\\frac{\\prod_\\limits{i=1}^n e^{-\\theta' x_{i}}}{\\prod_\\limits{j=1}^n e^{-\\theta x_{j}}} = {(\\frac{\\theta'}{\\theta})}^ne^{(\\theta - \\theta')\\S}$ avec $\\ \\S = \\sum_\\limits{i = 1}^n x_{i}$\n",
    "\n",
    "Nous trouvons une fonction croissante de S, nous avons donc : \n",
    "\n",
    "$$ \\delta(x) = \\mathbb{1}_{S(x)>c}$$"
   ]
  },
  {
   "cell_type": "markdown",
   "id": "6e0bee42",
   "metadata": {},
   "source": [
    "$\\def\\F{{\\textrm{F}}\\,}$\n",
    "On cherche $c$ tel que $\\alpha = \\mathbb{P}_{\\theta_{0}}(\\S(X) > c ) \\iff \\mathbb{P}_{\\theta_{0}}(\\S(X) < c )  = 1 - \\alpha$\n",
    "\n",
    "Or la somme de n variables aléatoire exponentielles de paramètre $\\theta_{0}$ suit une loi $\\gamma(n,n\\theta_{0})$\n",
    "\n",
    "Donc $ c = \\F_{\\theta_{0}}^{-1}(1 - \\alpha)$ avec $\\F$ la fonction quantile de associée à la loi $\\gamma(n,n\\theta_{0})$\n"
   ]
  },
  {
   "cell_type": "markdown",
   "id": "9835c3ec",
   "metadata": {},
   "source": [
    "**3]**"
   ]
  },
  {
   "cell_type": "code",
   "execution_count": 105,
   "id": "ce4c4c32",
   "metadata": {},
   "outputs": [
    {
     "name": "stdout",
     "output_type": "stream",
     "text": [
      "1231.6379811669049\n",
      "726.3363636363638\n"
     ]
    }
   ],
   "source": [
    "alpha = 0.05\n",
    "n = 55\n",
    "theta0 = 0.001\n",
    "c = sp.stats.gamma.ppf(1-alpha,n,scale = 1/(n*theta0))\n",
    "print(c)\n",
    "print(sum(L)/n)\n"
   ]
  },
  {
   "cell_type": "markdown",
   "id": "6c2ad51b",
   "metadata": {},
   "source": [
    "On a bien le coût moyen qui est inférieur à $c$, on accepte donc l'hypothèse $H_{0}$"
   ]
  },
  {
   "cell_type": "code",
   "execution_count": 90,
   "id": "8b633ca8",
   "metadata": {},
   "outputs": [
    {
     "name": "stdout",
     "output_type": "stream",
     "text": [
      "p_value :  0.986282513576735\n"
     ]
    }
   ],
   "source": [
    "p_value = 1 - sp.stats.gamma.cdf(x=sum(L),a=55,scale=1000)\n",
    "print(\"p_value : \",p_value)"
   ]
  },
  {
   "cell_type": "markdown",
   "id": "a9f1fc06",
   "metadata": {},
   "source": [
    "**4]**"
   ]
  },
  {
   "cell_type": "code",
   "execution_count": 81,
   "id": "ead8240f",
   "metadata": {},
   "outputs": [
    {
     "data": {
      "text/plain": [
       "<matplotlib.legend.Legend at 0x16e9acb20>"
      ]
     },
     "execution_count": 81,
     "metadata": {},
     "output_type": "execute_result"
    },
    {
     "data": {
      "image/png": "[encoded data removed]",
      "text/plain": [
       "<Figure size 640x480 with 1 Axes>"
      ]
     },
     "metadata": {},
     "output_type": "display_data"
    }
   ],
   "source": [
    "x = np.linspace(0,2000,100)\n",
    "plt.axvline(x=c, label='rejet', color = 'c') \n",
    "densite= sp.stats.gamma.pdf(x, n, scale=1/(n*theta0))\n",
    "plt.plot(x,densite,color='g', label = 'densité de T1')\n",
    "plt.legend()"
   ]
  },
  {
   "cell_type": "markdown",
   "id": "f6498a41",
   "metadata": {},
   "source": [
    "**5]** "
   ]
  },
  {
   "cell_type": "code",
   "execution_count": 104,
   "id": "60b82b34",
   "metadata": {},
   "outputs": [
    {
     "data": {
      "text/plain": [
       "<matplotlib.legend.Legend at 0x17b035d20>"
      ]
     },
     "execution_count": 104,
     "metadata": {},
     "output_type": "execute_result"
    },
    {
     "data": {
      "image/png": "[encoded data removed]",
      "text/plain": [
       "<Figure size 640x480 with 1 Axes>"
      ]
     },
     "metadata": {},
     "output_type": "display_data"
    }
   ],
   "source": [
    "x=np.linspace(1e-5,1e-3,1000)\n",
    "N = [10,50,100,1000]\n",
    "\n",
    "k=sp.stats.gamma.ppf(0.95,a=55,scale=1000)\n",
    "\n",
    "for n in N:\n",
    "    y=1-sp.stats.gamma.cdf(k,a=n,scale=1/x)\n",
    "    plt.plot(x,y,label='{}'.format(n))\n",
    "    \n",
    "plt.legend( loc='best')\n"
   ]
  },
  {
   "cell_type": "markdown",
   "id": "32bff6f5",
   "metadata": {},
   "source": [
    "Pour n suffisement grand, les courbes se confondent avec la droite d'équation y = 1 \n",
    "En effet, pour un échantillon très grand, les valeurs \"etrêmes\" qui peuvent survenir sont gommées par la masse des valeurs moyennes. Ainsi, la probabilité d'obtenir une valeur qui rejette l'hypothèse devient de plus en plus faible. Par conséquent la puissance du test se rapproche de 1. \n"
   ]
  },
  {
   "cell_type": "markdown",
   "id": "21f1b849",
   "metadata": {},
   "source": [
    "**6]**\n",
    "$\\def\\N{{\\textrm{N}}\\,}$\n",
    "D'après le théorème centrale limite, on a $T_{1}(X)$ suit une loi $\\mathcal{N}(\\frac{1}{\\theta},\\,\\frac{1}{n\\theta^2})$\n",
    "\n",
    "On cherche donc $c$ tel que $\\mathbb{P}_{\\theta = 0.001}(T_{1} > c) = \\alpha \\iff \\mathbb{P}(\\frac{T_{1} - \\frac{1}{\\lambda}}{\\frac{1}{\\sqrt n\\theta}} > q_{1-\\alpha}^{\\mathcal{N}(0,1)}) = \\alpha $\n",
    "\n",
    "Nous avons donc le test suivant : \n",
    "\n",
    "Rejet de $H_{0}$ si : $\\frac{T_{1} - \\frac{1}{\\lambda}}{\\frac{1}{\\sqrt n\\theta}} > q_{1-\\alpha}^{\\mathcal{N}(0,1)} \\approx 1,654$"
   ]
  },
  {
   "cell_type": "code",
   "execution_count": 107,
   "id": "9de33844",
   "metadata": {},
   "outputs": [
    {
     "data": {
      "text/plain": [
       "-2.0295438459730963"
      ]
     },
     "execution_count": 107,
     "metadata": {},
     "output_type": "execute_result"
    }
   ],
   "source": [
    "((10**-3)*sum(L)/np.sqrt(55))-np.sqrt(55)"
   ]
  },
  {
   "cell_type": "markdown",
   "id": "3e8af4fc",
   "metadata": {},
   "source": [
    "L'hypothèse $H_{0}$ n'est donc pas rejetée "
   ]
  }
 ],
 "metadata": {
  "kernelspec": {
   "display_name": "Python 3 (ipykernel)",
   "language": "python",
   "name": "python3"
  },
  "language_info": {
   "codemirror_mode": {
    "name": "ipython",
    "version": 3
   },
   "file_extension": ".py",
   "mimetype": "text/x-python",
   "name": "python",
   "nbconvert_exporter": "python",
   "pygments_lexer": "ipython3",
   "version": "3.10.6"
  }
 },
 "nbformat": 4,
 "nbformat_minor": 5
}
